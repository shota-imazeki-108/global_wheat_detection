{
  "nbformat": 4,
  "nbformat_minor": 0,
  "metadata": {
    "colab": {
      "name": "eff_det 3",
      "provenance": [],
      "collapsed_sections": [],
      "machine_shape": "hm"
    },
    "kernelspec": {
      "name": "python3",
      "display_name": "Python 3"
    },
    "accelerator": "GPU"
  },
  "cells": [
    {
      "cell_type": "code",
      "metadata": {
        "id": "CvGAlLINN0DG",
        "colab_type": "code",
        "colab": {
          "base_uri": "https://localhost:8080/",
          "height": 122
        },
        "outputId": "887fa9af-7ada-4839-a766-1fb09c9b24ee"
      },
      "source": [
        "from google.colab import drive\n",
        "drive.mount('/content/drive')"
      ],
      "execution_count": 2,
      "outputs": [
        {
          "output_type": "stream",
          "text": [
            "Go to this URL in a browser: https://accounts.google.com/o/oauth2/auth?client_id=947318989803-6bn6qk8qdgf4n4g3pfee6491hc0brc4i.apps.googleusercontent.com&redirect_uri=urn%3aietf%3awg%3aoauth%3a2.0%3aoob&response_type=code&scope=email%20https%3a%2f%2fwww.googleapis.com%2fauth%2fdocs.test%20https%3a%2f%2fwww.googleapis.com%2fauth%2fdrive%20https%3a%2f%2fwww.googleapis.com%2fauth%2fdrive.photos.readonly%20https%3a%2f%2fwww.googleapis.com%2fauth%2fpeopleapi.readonly\n",
            "\n",
            "Enter your authorization code:\n",
            "··········\n",
            "Mounted at /content/drive\n"
          ],
          "name": "stdout"
        }
      ]
    },
    {
      "cell_type": "code",
      "metadata": {
        "id": "YxO1usf2N0-o",
        "colab_type": "code",
        "colab": {
          "base_uri": "https://localhost:8080/",
          "height": 35
        },
        "outputId": "a91244ec-a782-45fd-aba9-0189c66bc93c"
      },
      "source": [
        "import os\n",
        "path = '/content/drive/My Drive/kaggle/wheat/'\n",
        "os.chdir(path) # カレントディレクトリを指定\n",
        "os.getcwd()"
      ],
      "execution_count": 3,
      "outputs": [
        {
          "output_type": "execute_result",
          "data": {
            "application/vnd.google.colaboratory.intrinsic+json": {
              "type": "string"
            },
            "text/plain": [
              "'/content/drive/My Drive/kaggle/wheat'"
            ]
          },
          "metadata": {
            "tags": []
          },
          "execution_count": 3
        }
      ]
    },
    {
      "cell_type": "code",
      "metadata": {
        "id": "Tpb38X9cnBGS",
        "colab_type": "code",
        "colab": {
          "base_uri": "https://localhost:8080/",
          "height": 207
        },
        "outputId": "2ab50796-0309-41d7-8d5f-a178119a5418"
      },
      "source": [
        "!!pip install kaggle"
      ],
      "execution_count": null,
      "outputs": [
        {
          "output_type": "execute_result",
          "data": {
            "text/plain": [
              "['Requirement already satisfied: kaggle in /usr/local/lib/python3.6/dist-packages (1.5.6)',\n",
              " 'Requirement already satisfied: python-dateutil in /usr/local/lib/python3.6/dist-packages (from kaggle) (2.8.1)',\n",
              " 'Requirement already satisfied: tqdm in /usr/local/lib/python3.6/dist-packages (from kaggle) (4.41.1)',\n",
              " 'Requirement already satisfied: requests in /usr/local/lib/python3.6/dist-packages (from kaggle) (2.23.0)',\n",
              " 'Requirement already satisfied: urllib3<1.25,>=1.21.1 in /usr/local/lib/python3.6/dist-packages (from kaggle) (1.24.3)',\n",
              " 'Requirement already satisfied: certifi in /usr/local/lib/python3.6/dist-packages (from kaggle) (2020.6.20)',\n",
              " 'Requirement already satisfied: python-slugify in /usr/local/lib/python3.6/dist-packages (from kaggle) (4.0.0)',\n",
              " 'Requirement already satisfied: six>=1.10 in /usr/local/lib/python3.6/dist-packages (from kaggle) (1.12.0)',\n",
              " 'Requirement already satisfied: chardet<4,>=3.0.2 in /usr/local/lib/python3.6/dist-packages (from requests->kaggle) (3.0.4)',\n",
              " 'Requirement already satisfied: idna<3,>=2.5 in /usr/local/lib/python3.6/dist-packages (from requests->kaggle) (2.9)',\n",
              " 'Requirement already satisfied: text-unidecode>=1.3 in /usr/local/lib/python3.6/dist-packages (from python-slugify->kaggle) (1.3)']"
            ]
          },
          "metadata": {
            "tags": []
          },
          "execution_count": 21
        }
      ]
    },
    {
      "cell_type": "code",
      "metadata": {
        "id": "0IFWTTAqnDQ6",
        "colab_type": "code",
        "colab": {}
      },
      "source": [
        "!mkdir -p /root/.kaggle/\n",
        "!cp /content/drive/\"My Drive\"/kaggle/config/kaggle.json /root/.kaggle/kaggle.json"
      ],
      "execution_count": null,
      "outputs": []
    },
    {
      "cell_type": "code",
      "metadata": {
        "id": "PdGDSJ2JnSSm",
        "colab_type": "code",
        "colab": {}
      },
      "source": [
        "import os\n",
        "from kaggle.api.kaggle_api_extended import KaggleApi\n",
        "api = KaggleApi()\n",
        "api.authenticate()\n",
        "# competitions = api.competitions_list(category=\"featured\")\n",
        "# for comp in competitions:\n",
        "#     print(comp.ref,comp.reward,comp.userRank,sep=',')"
      ],
      "execution_count": null,
      "outputs": []
    },
    {
      "cell_type": "code",
      "metadata": {
        "id": "kI2ydDZpnT5D",
        "colab_type": "code",
        "colab": {}
      },
      "source": [
        "import re\n",
        "competitions = 'global-wheat-detection'\n",
        "\n",
        "for json_dict in api.competitions_data_list_files(competitions):\n",
        "  data_path = './input'\n",
        "  name = json_dict['name']\n",
        "  match = re.search(r'.*/', name)\n",
        "  if match is not None:\n",
        "    data_path = os.path.join(data_path, match.group())\n",
        "  api.competition_download_file(competitions, name, data_path)"
      ],
      "execution_count": null,
      "outputs": []
    },
    {
      "cell_type": "code",
      "metadata": {
        "id": "h8BptRQxnXYb",
        "colab_type": "code",
        "colab": {
          "base_uri": "https://localhost:8080/",
          "height": 35
        },
        "outputId": "3806cbdf-2314-404c-ba8d-437ac0b91ef7"
      },
      "source": [
        "!kaggle datasets download -d shonenkov/timm_efficientdet_pytorch ./timm-efficientdet-pytorch/"
      ],
      "execution_count": null,
      "outputs": [
        {
          "output_type": "stream",
          "text": [
            "404 - Not Found\n"
          ],
          "name": "stdout"
        }
      ]
    },
    {
      "cell_type": "code",
      "metadata": {
        "id": "UXd1triUnX4F",
        "colab_type": "code",
        "colab": {
          "base_uri": "https://localhost:8080/",
          "height": 35
        },
        "outputId": "ff51d501-928c-4941-f366-d24b6603771f"
      },
      "source": [
        "import glob\n",
        "import zipfile\n",
        "\n",
        "def unzip(path):\n",
        "  zip_files = glob.glob(f\"{path}/**/*.zip\")\n",
        "  for file in zip_files:\n",
        "    print(file)\n",
        "    with zipfile.ZipFile(file) as existing_zip:\n",
        "        existing_zip.extractall(path=os.path.dirname(file))\n",
        "\n",
        "unzip(path)"
      ],
      "execution_count": null,
      "outputs": [
        {
          "output_type": "stream",
          "text": [
            "/content/drive/My Drive/kaggle/wheat/input/train.csv.zip\n"
          ],
          "name": "stdout"
        }
      ]
    },
    {
      "cell_type": "code",
      "metadata": {
        "id": "XZFHCNpBKZ50",
        "colab_type": "code",
        "colab": {
          "base_uri": "https://localhost:8080/",
          "height": 1000
        },
        "outputId": "9479e6ab-64dd-47ab-d77e-035578060da6"
      },
      "source": [
        "!pip install timm==0.1.26\n",
        "!pip install pycocotools==2.0\n",
        "!pip install albumentations -U"
      ],
      "execution_count": 4,
      "outputs": [
        {
          "output_type": "stream",
          "text": [
            "Collecting timm==0.1.26\n",
            "\u001b[?25l  Downloading https://files.pythonhosted.org/packages/44/c7/b1ce15cfca60d10d069dafbc2138761940f73b691496fd998a680f04dad1/timm-0.1.26-py3-none-any.whl (179kB)\n",
            "\r\u001b[K     |█▉                              | 10kB 21.4MB/s eta 0:00:01\r\u001b[K     |███▋                            | 20kB 1.8MB/s eta 0:00:01\r\u001b[K     |█████▌                          | 30kB 2.3MB/s eta 0:00:01\r\u001b[K     |███████▎                        | 40kB 2.6MB/s eta 0:00:01\r\u001b[K     |█████████▏                      | 51kB 2.0MB/s eta 0:00:01\r\u001b[K     |███████████                     | 61kB 2.3MB/s eta 0:00:01\r\u001b[K     |████████████▉                   | 71kB 2.6MB/s eta 0:00:01\r\u001b[K     |██████████████▋                 | 81kB 2.8MB/s eta 0:00:01\r\u001b[K     |████████████████▌               | 92kB 3.0MB/s eta 0:00:01\r\u001b[K     |██████████████████▎             | 102kB 2.8MB/s eta 0:00:01\r\u001b[K     |████████████████████            | 112kB 2.8MB/s eta 0:00:01\r\u001b[K     |██████████████████████          | 122kB 2.8MB/s eta 0:00:01\r\u001b[K     |███████████████████████▊        | 133kB 2.8MB/s eta 0:00:01\r\u001b[K     |█████████████████████████▋      | 143kB 2.8MB/s eta 0:00:01\r\u001b[K     |███████████████████████████▍    | 153kB 2.8MB/s eta 0:00:01\r\u001b[K     |█████████████████████████████▎  | 163kB 2.8MB/s eta 0:00:01\r\u001b[K     |███████████████████████████████ | 174kB 2.8MB/s eta 0:00:01\r\u001b[K     |████████████████████████████████| 184kB 2.8MB/s \n",
            "\u001b[?25hRequirement already satisfied: torchvision in /usr/local/lib/python3.6/dist-packages (from timm==0.1.26) (0.7.0+cu101)\n",
            "Requirement already satisfied: torch>=1.0 in /usr/local/lib/python3.6/dist-packages (from timm==0.1.26) (1.6.0+cu101)\n",
            "Requirement already satisfied: pillow>=4.1.1 in /usr/local/lib/python3.6/dist-packages (from torchvision->timm==0.1.26) (7.0.0)\n",
            "Requirement already satisfied: numpy in /usr/local/lib/python3.6/dist-packages (from torchvision->timm==0.1.26) (1.18.5)\n",
            "Requirement already satisfied: future in /usr/local/lib/python3.6/dist-packages (from torch>=1.0->timm==0.1.26) (0.16.0)\n",
            "Installing collected packages: timm\n",
            "Successfully installed timm-0.1.26\n",
            "Collecting pycocotools==2.0\n",
            "\u001b[?25l  Downloading https://files.pythonhosted.org/packages/96/84/9a07b1095fd8555ba3f3d519517c8743c2554a245f9476e5e39869f948d2/pycocotools-2.0.0.tar.gz (1.5MB)\n",
            "\u001b[K     |████████████████████████████████| 1.5MB 2.8MB/s \n",
            "\u001b[?25hBuilding wheels for collected packages: pycocotools\n",
            "  Building wheel for pycocotools (setup.py) ... \u001b[?25l\u001b[?25hdone\n",
            "  Created wheel for pycocotools: filename=pycocotools-2.0.0-cp36-cp36m-linux_x86_64.whl size=266429 sha256=c98c043ec9d40bc25692c3ef1713b09594dd674289a558b5b4771c870ab44406\n",
            "  Stored in directory: /root/.cache/pip/wheels/dc/e6/36/0e1ae88c868eb42d3f92181b1c9bbd0b217a7ec3da6bd62e55\n",
            "Successfully built pycocotools\n",
            "Installing collected packages: pycocotools\n",
            "  Found existing installation: pycocotools 2.0.1\n",
            "    Uninstalling pycocotools-2.0.1:\n",
            "      Successfully uninstalled pycocotools-2.0.1\n",
            "Successfully installed pycocotools-2.0.0\n",
            "Collecting albumentations\n",
            "\u001b[?25l  Downloading https://files.pythonhosted.org/packages/92/33/1c459c2c9a4028ec75527eff88bc4e2d256555189f42af4baf4d7bd89233/albumentations-0.4.6.tar.gz (117kB)\n",
            "\u001b[K     |████████████████████████████████| 122kB 2.9MB/s \n",
            "\u001b[?25hRequirement already satisfied, skipping upgrade: numpy>=1.11.1 in /usr/local/lib/python3.6/dist-packages (from albumentations) (1.18.5)\n",
            "Requirement already satisfied, skipping upgrade: scipy in /usr/local/lib/python3.6/dist-packages (from albumentations) (1.4.1)\n",
            "Collecting imgaug>=0.4.0\n",
            "\u001b[?25l  Downloading https://files.pythonhosted.org/packages/66/b1/af3142c4a85cba6da9f4ebb5ff4e21e2616309552caca5e8acefe9840622/imgaug-0.4.0-py2.py3-none-any.whl (948kB)\n",
            "\u001b[K     |████████████████████████████████| 952kB 11.1MB/s \n",
            "\u001b[?25hRequirement already satisfied, skipping upgrade: PyYAML in /usr/local/lib/python3.6/dist-packages (from albumentations) (3.13)\n",
            "Requirement already satisfied, skipping upgrade: opencv-python>=4.1.1 in /usr/local/lib/python3.6/dist-packages (from albumentations) (4.1.2.30)\n",
            "Requirement already satisfied, skipping upgrade: imageio in /usr/local/lib/python3.6/dist-packages (from imgaug>=0.4.0->albumentations) (2.4.1)\n",
            "Requirement already satisfied, skipping upgrade: six in /usr/local/lib/python3.6/dist-packages (from imgaug>=0.4.0->albumentations) (1.15.0)\n",
            "Requirement already satisfied, skipping upgrade: scikit-image>=0.14.2 in /usr/local/lib/python3.6/dist-packages (from imgaug>=0.4.0->albumentations) (0.16.2)\n",
            "Requirement already satisfied, skipping upgrade: Shapely in /usr/local/lib/python3.6/dist-packages (from imgaug>=0.4.0->albumentations) (1.7.0)\n",
            "Requirement already satisfied, skipping upgrade: Pillow in /usr/local/lib/python3.6/dist-packages (from imgaug>=0.4.0->albumentations) (7.0.0)\n",
            "Requirement already satisfied, skipping upgrade: matplotlib in /usr/local/lib/python3.6/dist-packages (from imgaug>=0.4.0->albumentations) (3.2.2)\n",
            "Requirement already satisfied, skipping upgrade: PyWavelets>=0.4.0 in /usr/local/lib/python3.6/dist-packages (from scikit-image>=0.14.2->imgaug>=0.4.0->albumentations) (1.1.1)\n",
            "Requirement already satisfied, skipping upgrade: networkx>=2.0 in /usr/local/lib/python3.6/dist-packages (from scikit-image>=0.14.2->imgaug>=0.4.0->albumentations) (2.4)\n",
            "Requirement already satisfied, skipping upgrade: cycler>=0.10 in /usr/local/lib/python3.6/dist-packages (from matplotlib->imgaug>=0.4.0->albumentations) (0.10.0)\n",
            "Requirement already satisfied, skipping upgrade: kiwisolver>=1.0.1 in /usr/local/lib/python3.6/dist-packages (from matplotlib->imgaug>=0.4.0->albumentations) (1.2.0)\n",
            "Requirement already satisfied, skipping upgrade: pyparsing!=2.0.4,!=2.1.2,!=2.1.6,>=2.0.1 in /usr/local/lib/python3.6/dist-packages (from matplotlib->imgaug>=0.4.0->albumentations) (2.4.7)\n",
            "Requirement already satisfied, skipping upgrade: python-dateutil>=2.1 in /usr/local/lib/python3.6/dist-packages (from matplotlib->imgaug>=0.4.0->albumentations) (2.8.1)\n",
            "Requirement already satisfied, skipping upgrade: decorator>=4.3.0 in /usr/local/lib/python3.6/dist-packages (from networkx>=2.0->scikit-image>=0.14.2->imgaug>=0.4.0->albumentations) (4.4.2)\n",
            "Building wheels for collected packages: albumentations\n",
            "  Building wheel for albumentations (setup.py) ... \u001b[?25l\u001b[?25hdone\n",
            "  Created wheel for albumentations: filename=albumentations-0.4.6-cp36-none-any.whl size=65164 sha256=488be27d87a6a9d34c2fb60e7fa0f5049d79fbb19360d6daf4921ee8e95e1273\n",
            "  Stored in directory: /root/.cache/pip/wheels/c7/f4/89/56d1bee5c421c36c1a951eeb4adcc32fbb82f5344c086efa14\n",
            "Successfully built albumentations\n",
            "Installing collected packages: imgaug, albumentations\n",
            "  Found existing installation: imgaug 0.2.9\n",
            "    Uninstalling imgaug-0.2.9:\n",
            "      Successfully uninstalled imgaug-0.2.9\n",
            "  Found existing installation: albumentations 0.1.12\n",
            "    Uninstalling albumentations-0.1.12:\n",
            "      Successfully uninstalled albumentations-0.1.12\n",
            "Successfully installed albumentations-0.4.6 imgaug-0.4.0\n"
          ],
          "name": "stdout"
        }
      ]
    },
    {
      "cell_type": "markdown",
      "metadata": {
        "id": "2xb2iGqXncfq",
        "colab_type": "text"
      },
      "source": [
        "# Code"
      ]
    },
    {
      "cell_type": "code",
      "metadata": {
        "id": "l6gRJrS9qoc8",
        "colab_type": "code",
        "colab": {}
      },
      "source": [
        "import sys\n",
        "sys.path.insert(0, \"./timm-efficientdet-pytorch\")\n",
        "sys.path.insert(0, \"./omegaconf\")\n",
        "\n",
        "import torch\n",
        "import os\n",
        "from datetime import datetime\n",
        "import time\n",
        "import random\n",
        "import cv2\n",
        "import pandas as pd\n",
        "import numpy as np\n",
        "import albumentations as A\n",
        "import matplotlib.pyplot as plt\n",
        "from albumentations.pytorch.transforms import ToTensorV2\n",
        "from sklearn.model_selection import StratifiedKFold\n",
        "from torch.utils.data import Dataset,DataLoader\n",
        "from torch.utils.data.sampler import SequentialSampler, RandomSampler\n",
        "from glob import glob\n",
        "\n",
        "SEED = 42\n",
        "\n",
        "def seed_everything(seed):\n",
        "    random.seed(seed)\n",
        "    os.environ['PYTHONHASHSEED'] = str(seed)\n",
        "    np.random.seed(seed)\n",
        "    torch.manual_seed(seed)\n",
        "    torch.cuda.manual_seed(seed)\n",
        "    torch.backends.cudnn.deterministic = True\n",
        "    torch.backends.cudnn.benchmark = True\n",
        "\n",
        "seed_everything(SEED)\n",
        "DATA_DIR = './input'"
      ],
      "execution_count": 5,
      "outputs": []
    },
    {
      "cell_type": "code",
      "metadata": {
        "id": "BcJzynXcLina",
        "colab_type": "code",
        "colab": {}
      },
      "source": [
        "marking = pd.read_csv(os.path.join(DATA_DIR, 'train.csv'))\n",
        "\n",
        "bboxs = np.stack(marking['bbox'].apply(lambda x: np.fromstring(x[1:-1], sep=',')))\n",
        "for i, column in enumerate(['x', 'y', 'w', 'h']):\n",
        "    marking[column] = bboxs[:,i]\n",
        "marking.drop(columns=['bbox'], inplace=True)"
      ],
      "execution_count": 6,
      "outputs": []
    },
    {
      "cell_type": "code",
      "metadata": {
        "id": "X_31Fby5Lsmr",
        "colab_type": "code",
        "colab": {
          "base_uri": "https://localhost:8080/",
          "height": 269
        },
        "outputId": "2049d7ac-f540-4e6a-9cbc-027839dc4cc9"
      },
      "source": [
        "skf = StratifiedKFold(n_splits=5, shuffle=True, random_state=42)\n",
        "\n",
        "df_folds = marking[['image_id']].copy()\n",
        "df_folds.loc[:, 'bbox_count'] = 1\n",
        "df_folds = df_folds.groupby('image_id').count()\n",
        "df_folds.loc[:, 'source'] = marking[['image_id', 'source']].groupby('image_id').min()['source']\n",
        "df_folds.loc[:, 'stratify_group'] = np.char.add(\n",
        "    df_folds['source'].values.astype(str),\n",
        "    df_folds['bbox_count'].apply(lambda x: f'_{x // 15}').values.astype(str)\n",
        ")\n",
        "df_folds.loc[:, 'fold'] = 0\n",
        "\n",
        "for fold_number, (train_index, val_index) in enumerate(skf.split(X=df_folds.index, y=df_folds['stratify_group'])):\n",
        "    df_folds.loc[df_folds.iloc[val_index].index, 'fold'] = fold_number\n",
        "df_folds.head()"
      ],
      "execution_count": 7,
      "outputs": [
        {
          "output_type": "stream",
          "text": [
            "/usr/local/lib/python3.6/dist-packages/sklearn/model_selection/_split.py:667: UserWarning: The least populated class in y has only 1 members, which is less than n_splits=5.\n",
            "  % (min_groups, self.n_splits)), UserWarning)\n"
          ],
          "name": "stderr"
        },
        {
          "output_type": "execute_result",
          "data": {
            "text/html": [
              "<div>\n",
              "<style scoped>\n",
              "    .dataframe tbody tr th:only-of-type {\n",
              "        vertical-align: middle;\n",
              "    }\n",
              "\n",
              "    .dataframe tbody tr th {\n",
              "        vertical-align: top;\n",
              "    }\n",
              "\n",
              "    .dataframe thead th {\n",
              "        text-align: right;\n",
              "    }\n",
              "</style>\n",
              "<table border=\"1\" class=\"dataframe\">\n",
              "  <thead>\n",
              "    <tr style=\"text-align: right;\">\n",
              "      <th></th>\n",
              "      <th>bbox_count</th>\n",
              "      <th>source</th>\n",
              "      <th>stratify_group</th>\n",
              "      <th>fold</th>\n",
              "    </tr>\n",
              "    <tr>\n",
              "      <th>image_id</th>\n",
              "      <th></th>\n",
              "      <th></th>\n",
              "      <th></th>\n",
              "      <th></th>\n",
              "    </tr>\n",
              "  </thead>\n",
              "  <tbody>\n",
              "    <tr>\n",
              "      <th>00333207f</th>\n",
              "      <td>55</td>\n",
              "      <td>arvalis_1</td>\n",
              "      <td>arvalis_1_3</td>\n",
              "      <td>1</td>\n",
              "    </tr>\n",
              "    <tr>\n",
              "      <th>005b0d8bb</th>\n",
              "      <td>20</td>\n",
              "      <td>usask_1</td>\n",
              "      <td>usask_1_1</td>\n",
              "      <td>3</td>\n",
              "    </tr>\n",
              "    <tr>\n",
              "      <th>006a994f7</th>\n",
              "      <td>25</td>\n",
              "      <td>inrae_1</td>\n",
              "      <td>inrae_1_1</td>\n",
              "      <td>1</td>\n",
              "    </tr>\n",
              "    <tr>\n",
              "      <th>00764ad5d</th>\n",
              "      <td>41</td>\n",
              "      <td>inrae_1</td>\n",
              "      <td>inrae_1_2</td>\n",
              "      <td>0</td>\n",
              "    </tr>\n",
              "    <tr>\n",
              "      <th>00b5fefed</th>\n",
              "      <td>25</td>\n",
              "      <td>arvalis_3</td>\n",
              "      <td>arvalis_3_1</td>\n",
              "      <td>3</td>\n",
              "    </tr>\n",
              "  </tbody>\n",
              "</table>\n",
              "</div>"
            ],
            "text/plain": [
              "           bbox_count     source stratify_group  fold\n",
              "image_id                                             \n",
              "00333207f          55  arvalis_1    arvalis_1_3     1\n",
              "005b0d8bb          20    usask_1      usask_1_1     3\n",
              "006a994f7          25    inrae_1      inrae_1_1     1\n",
              "00764ad5d          41    inrae_1      inrae_1_2     0\n",
              "00b5fefed          25  arvalis_3    arvalis_3_1     3"
            ]
          },
          "metadata": {
            "tags": []
          },
          "execution_count": 7
        }
      ]
    },
    {
      "cell_type": "code",
      "metadata": {
        "id": "6tlPe0LvieVS",
        "colab_type": "code",
        "colab": {}
      },
      "source": [
        "# psuedo = pd.read_csv(os.path.join(DATA_DIR, 'psuedo_label_mod.csv'), index_col=0)\n",
        "# psuedo['width'] = 1024\n",
        "# psuedo['height'] = 1024\n",
        "# psuedo['source'] = 'test'\n",
        "\n",
        "# from sklearn.model_selection import KFold\n",
        "# kf = KFold(n_splits=5, random_state=42, shuffle=True)\n",
        "\n",
        "# df_folds2 = psuedo[['image_id']].copy().groupby('image_id').count()\n",
        "# df_folds2.drop_duplicates(inplace=True)\n",
        "# df_folds2.loc[:, 'fold'] = 0\n",
        "\n",
        "# for fold_number, (train_index, val_index) in enumerate(kf.split(X=df_folds2.index)):\n",
        "#     df_folds2.loc[df_folds2.iloc[val_index].index, 'fold'] = fold_number\n",
        "\n",
        "# df_folds2.head()"
      ],
      "execution_count": 8,
      "outputs": []
    },
    {
      "cell_type": "code",
      "metadata": {
        "id": "4ZSBgI_mijZQ",
        "colab_type": "code",
        "colab": {}
      },
      "source": [
        "# marking = pd.concat([marking, psuedo])\n",
        "# marking = marking.reset_index(drop=True)\n",
        "# marking.head()"
      ],
      "execution_count": 9,
      "outputs": []
    },
    {
      "cell_type": "code",
      "metadata": {
        "id": "h68gHE5QmMiP",
        "colab_type": "code",
        "colab": {}
      },
      "source": [
        "# marking.tail()"
      ],
      "execution_count": 10,
      "outputs": []
    },
    {
      "cell_type": "code",
      "metadata": {
        "id": "Eb7fdOupijg0",
        "colab_type": "code",
        "colab": {}
      },
      "source": [
        "# df_folds = pd.concat([df_folds2, df_folds])\n",
        "# df_folds.head()"
      ],
      "execution_count": 11,
      "outputs": []
    },
    {
      "cell_type": "code",
      "metadata": {
        "id": "F6R0V3us5AVx",
        "colab_type": "code",
        "colab": {}
      },
      "source": [
        "from albumentations.core.transforms_interface import ImageOnlyTransform\n",
        "    \n",
        "class InsectAugmentation(ImageOnlyTransform):\n",
        "    \"\"\"\n",
        "    Impose an image of a insect to the target image\n",
        "    -----------------------------------------------\n",
        "    \n",
        "    Author(s): Wei Hao Khoong\n",
        "    Built-upon Roman's AdvancedHairAugmentation in Melanoma competition\n",
        "    \n",
        "    Args:\n",
        "        insects (int): maximum number of insects to impose\n",
        "        insects_folder (str): path to the folder with insects images\n",
        "    \"\"\"\n",
        "\n",
        "    def __init__(self, insects=2, dark_insect=False, always_apply=False, p=0.5):\n",
        "        super().__init__(always_apply, p)\n",
        "        self.insects = insects\n",
        "        self.dark_insect = dark_insect\n",
        "        self.insects_folder = \"./bee/\"\n",
        "\n",
        "    def apply(self, image, **kwargs):\n",
        "        \"\"\"\n",
        "        Args:\n",
        "            image (PIL Image): Image to draw insects on.\n",
        "\n",
        "        Returns:\n",
        "            PIL Image: Image with drawn insects.\n",
        "        \"\"\"\n",
        "        n_insects = random.randint(1, self.insects) # for this example I put 1 instead of 0 to illustrate the augmentation\n",
        "        \n",
        "        if not n_insects:\n",
        "            return image\n",
        "        \n",
        "        height, width, _ = image.shape  # target image width and height\n",
        "        insects_images = [im for im in os.listdir(self.insects_folder) if 'png' in im]\n",
        "        \n",
        "        for _ in range(n_insects):\n",
        "            insect = cv2.cvtColor(cv2.imread(os.path.join(self.insects_folder, random.choice(insects_images))), cv2.COLOR_BGR2RGB)\n",
        "            insect = cv2.flip(insect, random.choice([-1, 0, 1]))\n",
        "            insect = cv2.rotate(insect, random.choice([0, 1, 2]))\n",
        "\n",
        "            h_height, h_width, _ = insect.shape  # insect image width and height\n",
        "            roi_ho = random.randint(0, image.shape[0] - insect.shape[0])\n",
        "            roi_wo = random.randint(0, image.shape[1] - insect.shape[1])\n",
        "            roi = image[roi_ho:roi_ho + h_height, roi_wo:roi_wo + h_width]\n",
        "\n",
        "            # Creating a mask and inverse mask \n",
        "            img2gray = cv2.cvtColor(insect, cv2.COLOR_BGR2GRAY)\n",
        "            ret, mask = cv2.threshold(img2gray, 10, 255, cv2.THRESH_BINARY)\n",
        "            mask_inv = cv2.bitwise_not(mask)\n",
        "\n",
        "            # Now black-out the area of insect in ROI\n",
        "            img_bg = cv2.bitwise_and(roi, roi, mask=mask_inv)\n",
        "\n",
        "            # Take only region of insect from insect image.\n",
        "            if self.dark_insect:\n",
        "                img_bg = cv2.bitwise_and(roi, roi, mask=mask_inv)\n",
        "                insect_fg = cv2.bitwise_and(img_bg, img_bg, mask=mask)\n",
        "            else:\n",
        "                insect_fg = cv2.bitwise_and(insect, insect, mask=mask)\n",
        "\n",
        "            # Put insect in ROI and modify the target image\n",
        "            dst = cv2.add(img_bg, insect_fg, dtype=cv2.CV_64F)\n",
        "\n",
        "            image[roi_ho:roi_ho + h_height, roi_wo:roi_wo + h_width] = dst\n",
        "                \n",
        "        return image "
      ],
      "execution_count": 12,
      "outputs": []
    },
    {
      "cell_type": "code",
      "metadata": {
        "id": "FzD7dyqVLs0x",
        "colab_type": "code",
        "colab": {}
      },
      "source": [
        "def get_train_transforms():\n",
        "    return A.Compose(\n",
        "        [\n",
        "            A.RandomSizedCrop(min_max_height=(800, 800), height=1024, width=1024, p=0.5), # 拡大\n",
        "            A.OneOf([\n",
        "                A.HueSaturationValue(hue_shift_limit=0.2, sat_shift_limit= 0.2, \n",
        "                                     val_shift_limit=0.2, p=0.9), # 色相、彩度の変更\n",
        "                A.RandomBrightnessContrast(brightness_limit=0.2, \n",
        "                                           contrast_limit=0.2, p=0.9), # 明るさとコントラストの変更\n",
        "            ],p=0.9),\n",
        "            A.ToGray(p=0.01), # 白黒変換\n",
        "            A.HorizontalFlip(p=0.5), # 左右反転\n",
        "            # A.VerticalFlip(p=0.5), # 上下反転\n",
        "            A.Blur(blur_limit=30, p=0.5),\n",
        "            A.RandomRotate90(p=0.5),\n",
        "            A.RandomBrightnessContrast(brightness_limit=0.5, contrast_limit=0.5, p=0.5),\n",
        "            InsectAugmentation(insects=2, dark_insect=True, p=0.5),\n",
        "            A.Resize(height=1024, width=1024, p=1),\n",
        "            # A.Cutout(num_holes=8, max_h_size=64, max_w_size=64, fill_value=0, p=0.5), # 正方形に一部データをdrop outさせる\n",
        "            # A.CoarseDropout(max_holes=16, max_height=32, max_width=32, min_height=8, min_width=8, fill_value=0, p=0.5), # 矩形に一部データをdrop outさせる\n",
        "            ToTensorV2(p=1.0),\n",
        "        ], \n",
        "        p=1.0, \n",
        "        bbox_params=A.BboxParams(\n",
        "            format='pascal_voc', # [x_min, y_min, x_max, y_max]\n",
        "            min_area=0, # 最小面積\n",
        "            min_visibility=0, # 最小領域の割合\n",
        "            label_fields=['labels']\n",
        "        )\n",
        "    )\n",
        "\n",
        "def get_valid_transforms():\n",
        "    return A.Compose(\n",
        "        [\n",
        "            A.Resize(height=1024, width=1024, p=1.0),\n",
        "            ToTensorV2(p=1.0),\n",
        "        ], \n",
        "        p=1.0, \n",
        "        bbox_params=A.BboxParams(\n",
        "            format='pascal_voc',\n",
        "            min_area=0,\n",
        "            min_visibility=0,\n",
        "            label_fields=['labels']\n",
        "        )\n",
        "    )"
      ],
      "execution_count": 13,
      "outputs": []
    },
    {
      "cell_type": "code",
      "metadata": {
        "id": "v-J5YyACLs53",
        "colab_type": "code",
        "colab": {}
      },
      "source": [
        "TRAIN_ROOT_PATH = os.path.join(DATA_DIR, 'train')\n",
        "\n",
        "class DatasetRetriever(Dataset):\n",
        "\n",
        "    def __init__(self, marking, image_ids, transforms=None, test=False, mixup=False):\n",
        "        super().__init__()\n",
        "\n",
        "        self.image_ids = image_ids\n",
        "        self.marking = marking\n",
        "        self.transforms = transforms\n",
        "        self.test = test\n",
        "        self.mixup = mixup\n",
        "\n",
        "    def __getitem__(self, index: int):\n",
        "        image_id = self.image_ids[index]\n",
        "        \n",
        "        if self.test or random.random() > 0.5:\n",
        "            image, boxes = self.load_image_and_boxes(index)\n",
        "        else:\n",
        "            image_id = self.image_ids[index]\n",
        "            num_boxes = len(self.marking[self.marking.image_id==image_id])\n",
        "            if self.mixup and num_boxes < 20 and random.random() > 0.5:\n",
        "              image, boxes = self.load_mixup_image_and_boxes(index)\n",
        "            else:\n",
        "              image, boxes = self.load_cutmix_image_and_boxes(index)\n",
        "\n",
        "        # there is only one class\n",
        "        labels = torch.ones((boxes.shape[0],), dtype=torch.int64)\n",
        "        \n",
        "        target = {}\n",
        "        target['boxes'] = boxes\n",
        "        target['labels'] = labels\n",
        "        target['image_id'] = torch.tensor([index])\n",
        "\n",
        "        if self.transforms:\n",
        "            for i in range(10):\n",
        "                sample = self.transforms(**{\n",
        "                    'image': image,\n",
        "                    'bboxes': target['boxes'],\n",
        "                    'labels': labels\n",
        "                })\n",
        "                if len(sample['bboxes']) > 0:\n",
        "                    image = sample['image']\n",
        "                    target['boxes'] = torch.stack(tuple(map(torch.tensor, zip(*sample['bboxes'])))).permute(1, 0)\n",
        "                    target['boxes'][:,[0,1,2,3]] = target['boxes'][:,[1,0,3,2]]  #yxyx: be warning\n",
        "                    break\n",
        "\n",
        "        return image, target, image_id\n",
        "\n",
        "    def __len__(self) -> int:\n",
        "        return self.image_ids.shape[0]\n",
        "\n",
        "    def load_image_and_boxes(self, index):\n",
        "        image_id = self.image_ids[index]\n",
        "        image = cv2.imread(f'{TRAIN_ROOT_PATH}/{image_id}.jpg', cv2.IMREAD_COLOR)\n",
        "        image = cv2.cvtColor(image, cv2.COLOR_BGR2RGB).astype(np.float32)\n",
        "        image /= 255.0\n",
        "        records = self.marking[self.marking['image_id'] == image_id]\n",
        "        boxes = records[['x', 'y', 'w', 'h']].values\n",
        "        boxes[:, 2] = boxes[:, 0] + boxes[:, 2] # 幅を座標(右端)に変換\n",
        "        boxes[:, 3] = boxes[:, 1] + boxes[:, 3] # 高さを座標(上端)に変換\n",
        "        return image, boxes\n",
        "\n",
        "    def load_cutmix_image_and_boxes(self, index, imsize=1024):\n",
        "        \"\"\" \n",
        "        多分YOLOv5みたいに切り分けてくっつけるやつ。\n",
        "        This implementation of cutmix author:  https://www.kaggle.com/nvnnghia \n",
        "        Refactoring and adaptation: https://www.kaggle.com/shonenkov\n",
        "        \"\"\"\n",
        "        w, h = imsize, imsize\n",
        "        s = imsize // 2\n",
        "    \n",
        "        xc, yc = [int(random.uniform(imsize * 0.25, imsize * 0.75)) for _ in range(2)]  # center x, y\n",
        "        indexes = [index] + [random.randint(0, self.image_ids.shape[0] - 1) for _ in range(3)]\n",
        "\n",
        "        result_image = np.full((imsize, imsize, 3), 1, dtype=np.float32)\n",
        "        result_boxes = []\n",
        "\n",
        "        for i, index in enumerate(indexes):\n",
        "            image, boxes = self.load_image_and_boxes(index)\n",
        "            if i == 0:\n",
        "                x1a, y1a, x2a, y2a = max(xc - w, 0), max(yc - h, 0), xc, yc  # xmin, ymin, xmax, ymax (large image)\n",
        "                x1b, y1b, x2b, y2b = w - (x2a - x1a), h - (y2a - y1a), w, h  # xmin, ymin, xmax, ymax (small image)\n",
        "            elif i == 1:  # top right\n",
        "                x1a, y1a, x2a, y2a = xc, max(yc - h, 0), min(xc + w, s * 2), yc\n",
        "                x1b, y1b, x2b, y2b = 0, h - (y2a - y1a), min(w, x2a - x1a), h\n",
        "            elif i == 2:  # bottom left\n",
        "                x1a, y1a, x2a, y2a = max(xc - w, 0), yc, xc, min(s * 2, yc + h)\n",
        "                x1b, y1b, x2b, y2b = w - (x2a - x1a), 0, max(xc, w), min(y2a - y1a, h)\n",
        "            elif i == 3:  # bottom right\n",
        "                x1a, y1a, x2a, y2a = xc, yc, min(xc + w, s * 2), min(s * 2, yc + h)\n",
        "                x1b, y1b, x2b, y2b = 0, 0, min(w, x2a - x1a), min(y2a - y1a, h)\n",
        "            result_image[y1a:y2a, x1a:x2a] = image[y1b:y2b, x1b:x2b]\n",
        "            padw = x1a - x1b\n",
        "            padh = y1a - y1b\n",
        "\n",
        "            boxes[:, 0] += padw\n",
        "            boxes[:, 1] += padh\n",
        "            boxes[:, 2] += padw\n",
        "            boxes[:, 3] += padh\n",
        "\n",
        "            result_boxes.append(boxes)\n",
        "\n",
        "        result_boxes = np.concatenate(result_boxes, 0)\n",
        "        np.clip(result_boxes[:, 0:], 0, 2 * s, out=result_boxes[:, 0:])\n",
        "        result_boxes = result_boxes.astype(np.int32)\n",
        "        result_boxes = result_boxes[np.where((result_boxes[:,2]-result_boxes[:,0])*(result_boxes[:,3]-result_boxes[:,1]) > 0)]\n",
        "        return result_image, result_boxes\n",
        "\n",
        "    def load_mixup_image_and_boxes(self, index, imsize=1024):\n",
        "        image, boxes = self.load_image_and_boxes(index)\n",
        "        r_image, r_boxes = self.load_image_and_boxes(random.randint(0, self.image_ids.shape[0] - 1)) # 被らないだろう前提\n",
        "        mixup_image = (image+r_image) / 2\n",
        "        mixup_boxes = np.vstack([boxes, r_boxes])\n",
        "\n",
        "        return mixup_image, mixup_boxes"
      ],
      "execution_count": 14,
      "outputs": []
    },
    {
      "cell_type": "code",
      "metadata": {
        "id": "em4I3usfLszt",
        "colab_type": "code",
        "colab": {}
      },
      "source": [
        "fold_number = 0\n",
        "\n",
        "train_dataset = DatasetRetriever(\n",
        "    image_ids=df_folds[df_folds['fold'] != fold_number].index.values,\n",
        "    marking=marking,\n",
        "    transforms=get_train_transforms(),\n",
        "    test=False,\n",
        "    mixup=True\n",
        ")\n",
        "\n",
        "validation_dataset = DatasetRetriever(\n",
        "    image_ids=df_folds[df_folds['fold'] == fold_number].index.values,\n",
        "    marking=marking,\n",
        "    transforms=get_valid_transforms(),\n",
        "    test=True,\n",
        "    mixup=False\n",
        ")"
      ],
      "execution_count": 15,
      "outputs": []
    },
    {
      "cell_type": "code",
      "metadata": {
        "id": "hIT-ciO9Lswf",
        "colab_type": "code",
        "colab": {
          "base_uri": "https://localhost:8080/",
          "height": 483
        },
        "outputId": "daa97026-d2e9-40fe-ab24-ef00f2ac2e13"
      },
      "source": [
        "image, target, image_id = train_dataset[1]\n",
        "boxes = target['boxes'].cpu().numpy().astype(np.int32)\n",
        "\n",
        "numpy_image = image.permute(1,2,0).cpu().numpy()\n",
        "\n",
        "fig, ax = plt.subplots(1, 1, figsize=(16, 8))\n",
        "\n",
        "for box in boxes:\n",
        "    cv2.rectangle(numpy_image, (box[1], box[0]), (box[3],  box[2]), (0, 1, 0), 2)\n",
        "    \n",
        "ax.set_axis_off()\n",
        "ax.imshow(numpy_image)"
      ],
      "execution_count": 17,
      "outputs": [
        {
          "output_type": "execute_result",
          "data": {
            "text/plain": [
              "<matplotlib.image.AxesImage at 0x7f45f2edccf8>"
            ]
          },
          "metadata": {
            "tags": []
          },
          "execution_count": 17
        },
        {
          "output_type": "display_data",
          "data": {
            "image/png": "[encoded data removed]",
            "text/plain": [
              "<Figure size 1152x576 with 1 Axes>"
            ]
          },
          "metadata": {
            "tags": [],
            "needs_background": "light"
          }
        }
      ]
    },
    {
      "cell_type": "code",
      "metadata": {
        "id": "MQCX83nNLskZ",
        "colab_type": "code",
        "colab": {}
      },
      "source": [
        "class AverageMeter(object):\n",
        "    \"\"\"Computes and stores the average and current value\"\"\"\n",
        "    def __init__(self):\n",
        "        self.reset()\n",
        "\n",
        "    def reset(self):\n",
        "        self.val = 0\n",
        "        self.avg = 0\n",
        "        self.sum = 0\n",
        "        self.count = 0\n",
        "\n",
        "    def update(self, val, n=1):\n",
        "        self.val = val\n",
        "        self.sum += val * n\n",
        "        self.count += n\n",
        "        self.avg = self.sum / self.count"
      ],
      "execution_count": 18,
      "outputs": []
    },
    {
      "cell_type": "code",
      "metadata": {
        "id": "uKOOHTjgMsfk",
        "colab_type": "code",
        "colab": {}
      },
      "source": [
        "import warnings\n",
        "\n",
        "warnings.filterwarnings(\"ignore\")\n",
        "\n",
        "class Fitter:\n",
        "    \n",
        "    def __init__(self, model, device, config):\n",
        "        self.config = config\n",
        "        self.epoch = 0\n",
        "\n",
        "        self.base_dir = f'./{config.folder}'\n",
        "        if not os.path.exists(self.base_dir):\n",
        "            os.makedirs(self.base_dir)\n",
        "        \n",
        "        self.log_path = f'{self.base_dir}/log.txt'\n",
        "        self.best_summary_loss = 10**5\n",
        "\n",
        "        self.model = model\n",
        "        self.device = device\n",
        "\n",
        "        param_optimizer = list(self.model.named_parameters())\n",
        "        no_decay = ['bias', 'LayerNorm.bias', 'LayerNorm.weight']\n",
        "        optimizer_grouped_parameters = [\n",
        "            {'params': [p for n, p in param_optimizer if not any(nd in n for nd in no_decay)], 'weight_decay': 0.001},\n",
        "            {'params': [p for n, p in param_optimizer if any(nd in n for nd in no_decay)], 'weight_decay': 0.0}\n",
        "        ] \n",
        "\n",
        "        self.optimizer = torch.optim.AdamW(self.model.parameters(), lr=config.lr)\n",
        "        self.scheduler = config.SchedulerClass(self.optimizer, **config.scheduler_params)\n",
        "        self.log(f'Fitter prepared. Device is {self.device}')\n",
        "\n",
        "    def fit(self, train_loader, validation_loader):\n",
        "        for e in range(self.config.n_epochs):\n",
        "            if self.config.verbose:\n",
        "                lr = self.optimizer.param_groups[0]['lr']\n",
        "                timestamp = datetime.utcnow().isoformat()\n",
        "                self.log(f'\\n{timestamp}\\nLR: {lr}')\n",
        "\n",
        "            t = time.time()\n",
        "            summary_loss = self.train_one_epoch(train_loader)\n",
        "\n",
        "            self.log(f'[RESULT]: Train. Epoch: {self.epoch}, summary_loss: {summary_loss.avg:.5f}, time: {(time.time() - t):.5f}')\n",
        "            self.save(f'{self.base_dir}/last-checkpoint.bin')\n",
        "\n",
        "            t = time.time()\n",
        "            summary_loss = self.validation(validation_loader)\n",
        "\n",
        "            self.log(f'[RESULT]: Val. Epoch: {self.epoch}, summary_loss: {summary_loss.avg:.5f}, time: {(time.time() - t):.5f}')\n",
        "            if summary_loss.avg < self.best_summary_loss:\n",
        "                self.best_summary_loss = summary_loss.avg\n",
        "                self.model.eval()\n",
        "                self.save(f'{self.base_dir}/best-checkpoint-{str(self.epoch).zfill(3)}epoch.bin')\n",
        "                for path in sorted(glob(f'{self.base_dir}/best-checkpoint-*epoch.bin'))[:-3]:\n",
        "                    os.remove(path)\n",
        "\n",
        "            if self.config.validation_scheduler:\n",
        "                self.scheduler.step(metrics=summary_loss.avg)\n",
        "\n",
        "            self.epoch += 1\n",
        "\n",
        "    def validation(self, val_loader):\n",
        "        self.model.eval()\n",
        "        summary_loss = AverageMeter()\n",
        "        t = time.time()\n",
        "        for step, (images, targets, image_ids) in enumerate(val_loader):\n",
        "            if self.config.verbose:\n",
        "                if step % self.config.verbose_step == 0:\n",
        "                    print(\n",
        "                        f'Val Step {step}/{len(val_loader)}, ' + \\\n",
        "                        f'summary_loss: {summary_loss.avg:.5f}, ' + \\\n",
        "                        f'time: {(time.time() - t):.5f}', end='\\r'\n",
        "                    )\n",
        "            with torch.no_grad():\n",
        "                images = torch.stack(images)\n",
        "                batch_size = images.shape[0]\n",
        "                images = images.to(self.device).float()\n",
        "                boxes = [target['boxes'].to(self.device).float() for target in targets]\n",
        "                labels = [target['labels'].to(self.device).float() for target in targets]\n",
        "\n",
        "                loss, _, _ = self.model(images, boxes, labels)\n",
        "                summary_loss.update(loss.detach().item(), batch_size)\n",
        "\n",
        "        return summary_loss\n",
        "\n",
        "    def train_one_epoch(self, train_loader):\n",
        "        self.model.train()\n",
        "        summary_loss = AverageMeter()\n",
        "        t = time.time()\n",
        "        for step, (images, targets, image_ids) in enumerate(train_loader):\n",
        "            if self.config.verbose:\n",
        "                if step % self.config.verbose_step == 0:\n",
        "                    print(\n",
        "                        f'Train Step {step}/{len(train_loader)}, ' + \\\n",
        "                        f'summary_loss: {summary_loss.avg:.5f}, ' + \\\n",
        "                        f'time: {(time.time() - t):.5f}', end='\\r'\n",
        "                    )\n",
        "            \n",
        "            images = torch.stack(images)\n",
        "            images = images.to(self.device).float()\n",
        "            batch_size = images.shape[0]\n",
        "            boxes = [target['boxes'].to(self.device).float() for target in targets]\n",
        "            labels = [target['labels'].to(self.device).float() for target in targets]\n",
        "\n",
        "            self.optimizer.zero_grad()\n",
        "            \n",
        "            loss, _, _ = self.model(images, boxes, labels)\n",
        "            \n",
        "            loss.backward()\n",
        "\n",
        "            summary_loss.update(loss.detach().item(), batch_size)\n",
        "\n",
        "            self.optimizer.step()\n",
        "\n",
        "            if self.config.step_scheduler:\n",
        "                self.scheduler.step()\n",
        "\n",
        "        return summary_loss\n",
        "    \n",
        "    def save(self, path):\n",
        "        self.model.eval()\n",
        "        torch.save({\n",
        "            'model_state_dict': self.model.model.state_dict(),\n",
        "            'optimizer_state_dict': self.optimizer.state_dict(),\n",
        "            'scheduler_state_dict': self.scheduler.state_dict(),\n",
        "            'best_summary_loss': self.best_summary_loss,\n",
        "            'epoch': self.epoch,\n",
        "        }, path)\n",
        "\n",
        "    def load(self, path):\n",
        "        checkpoint = torch.load(path)\n",
        "        self.model.model.load_state_dict(checkpoint['model_state_dict'])\n",
        "        self.optimizer.load_state_dict(checkpoint['optimizer_state_dict'])\n",
        "        self.scheduler.load_state_dict(checkpoint['scheduler_state_dict'])\n",
        "        self.best_summary_loss = checkpoint['best_summary_loss']\n",
        "        self.epoch = checkpoint['epoch'] + 1\n",
        "        \n",
        "    def log(self, message):\n",
        "        if self.config.verbose:\n",
        "            print(message)\n",
        "        with open(self.log_path, 'a+') as logger:\n",
        "            logger.write(f'{message}\\n')"
      ],
      "execution_count": 19,
      "outputs": []
    },
    {
      "cell_type": "code",
      "metadata": {
        "id": "wTcFlGjZMslY",
        "colab_type": "code",
        "colab": {}
      },
      "source": [
        "class TrainGlobalConfig:\n",
        "    num_workers = 2\n",
        "    batch_size = 4\n",
        "    n_epochs = 100 # n_epochs = 40\n",
        "    lr = 0.0002\n",
        "\n",
        "    folder = 'effdet5-cutmix-augmix3'\n",
        "\n",
        "    # -------------------\n",
        "    verbose = True\n",
        "    verbose_step = 1\n",
        "    # -------------------\n",
        "\n",
        "    # --------------------\n",
        "    step_scheduler = False  # do scheduler.step after optimizer.step\n",
        "    validation_scheduler = True  # do scheduler.step after validation stage loss\n",
        "\n",
        "#     SchedulerClass = torch.optim.lr_scheduler.OneCycleLR\n",
        "#     scheduler_params = dict(\n",
        "#         max_lr=0.001,\n",
        "#         epochs=n_epochs,\n",
        "#         steps_per_epoch=int(len(train_dataset) / batch_size),\n",
        "#         pct_start=0.1,\n",
        "#         anneal_strategy='cos', \n",
        "#         final_div_factor=10**5\n",
        "#     )\n",
        "    \n",
        "    SchedulerClass = torch.optim.lr_scheduler.ReduceLROnPlateau\n",
        "    scheduler_params = dict(\n",
        "        mode='min',\n",
        "        factor=0.5,\n",
        "        patience=2,\n",
        "        verbose=False, \n",
        "        threshold=0.0001,\n",
        "        threshold_mode='abs',\n",
        "        cooldown=0, \n",
        "        min_lr=1e-8,\n",
        "        eps=1e-08\n",
        "    )\n",
        "    # --------------------"
      ],
      "execution_count": 20,
      "outputs": []
    },
    {
      "cell_type": "code",
      "metadata": {
        "id": "eMefT_m9Mssq",
        "colab_type": "code",
        "colab": {}
      },
      "source": [
        "def collate_fn(batch):\n",
        "    return tuple(zip(*batch))\n",
        "\n",
        "def run_training():\n",
        "    device = torch.device('cuda:0')\n",
        "    net.to(device)\n",
        "\n",
        "    train_loader = torch.utils.data.DataLoader(\n",
        "        train_dataset,\n",
        "        batch_size=TrainGlobalConfig.batch_size,\n",
        "        sampler=RandomSampler(train_dataset),\n",
        "        pin_memory=False,\n",
        "        drop_last=True,\n",
        "        num_workers=TrainGlobalConfig.num_workers,\n",
        "        collate_fn=collate_fn,\n",
        "    )\n",
        "    val_loader = torch.utils.data.DataLoader(\n",
        "        validation_dataset, \n",
        "        batch_size=TrainGlobalConfig.batch_size,\n",
        "        num_workers=TrainGlobalConfig.num_workers,\n",
        "        shuffle=False,\n",
        "        sampler=SequentialSampler(validation_dataset),\n",
        "        pin_memory=False,\n",
        "        collate_fn=collate_fn,\n",
        "    )\n",
        "\n",
        "    fitter = Fitter(model=net, device=device, config=TrainGlobalConfig)\n",
        "    fitter.fit(train_loader, val_loader)"
      ],
      "execution_count": 21,
      "outputs": []
    },
    {
      "cell_type": "code",
      "metadata": {
        "id": "Si7Jzs5tHNxi",
        "colab_type": "code",
        "colab": {}
      },
      "source": [
        "from effdet import get_efficientdet_config, EfficientDet, DetBenchTrain\n",
        "from effdet.efficientdet import HeadNet\n",
        "\n",
        "def load_net(checkpoint_path):\n",
        "    config = get_efficientdet_config('tf_efficientdet_d6')\n",
        "    net = EfficientDet(config, pretrained_backbone=False)\n",
        "\n",
        "    config.num_classes = 1\n",
        "    config.image_size=1024\n",
        "    net.class_net = HeadNet(config, num_outputs=config.num_classes, norm_kwargs=dict(eps=.001, momentum=.01))\n",
        "\n",
        "    checkpoint = torch.load(checkpoint_path)\n",
        "    net.load_state_dict(checkpoint['model_state_dict'])\n",
        "\n",
        "    del checkpoint\n",
        "    # gc.collect()\n",
        "\n",
        "    net = DetBenchTrain(net, config)\n",
        "    net.eval();\n",
        "    return net.cuda()\n",
        "\n",
        "# your place of the model\n",
        "net = load_net('./effdet5-cutmix-augmix3/last-checkpoint.bin')"
      ],
      "execution_count": 22,
      "outputs": []
    },
    {
      "cell_type": "code",
      "metadata": {
        "id": "QdyYQ1DoMsxb",
        "colab_type": "code",
        "colab": {}
      },
      "source": [
        "# from effdet import get_efficientdet_config, EfficientDet, DetBenchTrain\n",
        "# from effdet.efficientdet import HeadNet\n",
        "\n",
        "# def get_net():\n",
        "#     config = get_efficientdet_config('tf_efficientdet_d6')\n",
        "#     net = EfficientDet(config, pretrained_backbone=False)\n",
        "#     net.class_net = HeadNet(config, num_outputs=config.num_classes, norm_kwargs=dict(eps=.001, momentum=.01))\n",
        "#     checkpoint = torch.load('./effdet5-cutmix-augmix3/last-checkpoint.bin')\n",
        "#     net.load_state_dict(checkpoint['model_state_dict'])\n",
        "#     config.num_classes = 1\n",
        "#     config.image_size = 1024\n",
        "#     # net.class_net = HeadNet(config, num_outputs=config.num_classes, norm_kwargs=dict(eps=.001, momentum=.01))\n",
        "#     return DetBenchTrain(net, config)\n",
        "\n",
        "# net = get_net()"
      ],
      "execution_count": 23,
      "outputs": []
    },
    {
      "cell_type": "code",
      "metadata": {
        "id": "r3rUS67oMsrE",
        "colab_type": "code",
        "colab": {
          "base_uri": "https://localhost:8080/",
          "height": 340
        },
        "outputId": "a1abd17c-947d-4273-a7bc-27774ce1e88d"
      },
      "source": [
        "# argument追加, insect aug, 条件付きmixup20, d6, img_size1024\n",
        "run_training()"
      ],
      "execution_count": null,
      "outputs": [
        {
          "output_type": "stream",
          "text": [
            "Fitter prepared. Device is cuda:0\n",
            "\n",
            "2020-08-04T03:05:30.468874\n",
            "LR: 3.125e-06\n",
            "[RESULT]: Train. Epoch: 0, summary_loss: 0.43740, time: 2699.41101\n",
            "[RESULT]: Val. Epoch: 0, summary_loss: 0.42766, time: 132.17945\n",
            "\n",
            "2020-08-04T03:52:47.944263\n",
            "LR: 3.125e-06\n",
            "[RESULT]: Train. Epoch: 1, summary_loss: 0.43499, time: 2575.74932\n",
            "[RESULT]: Val. Epoch: 1, summary_loss: 0.43735, time: 130.31789\n",
            "\n",
            "2020-08-04T04:37:57.657167\n",
            "LR: 3.125e-06\n",
            "[RESULT]: Train. Epoch: 2, summary_loss: 0.43677, time: 2578.78073\n",
            "[RESULT]: Val. Epoch: 2, summary_loss: 0.43881, time: 130.22623\n",
            "\n",
            "2020-08-04T05:23:09.726680\n",
            "LR: 3.125e-06\n"
          ],
          "name": "stdout"
        }
      ]
    },
    {
      "cell_type": "code",
      "metadata": {
        "id": "Y0ECLpQ8Mso_",
        "colab_type": "code",
        "colab": {}
      },
      "source": [
        ""
      ],
      "execution_count": null,
      "outputs": []
    },
    {
      "cell_type": "code",
      "metadata": {
        "id": "xZCF_sIyMsjK",
        "colab_type": "code",
        "colab": {
          "base_uri": "https://localhost:8080/",
          "height": 52
        },
        "outputId": "7c5443a0-c7a0-41b1-ca10-05705f8c153b"
      },
      "source": [
        "!ls"
      ],
      "execution_count": null,
      "outputs": [
        {
          "output_type": "stream",
          "text": [
            "effdet5-cutmix-augmix  ensemble_boxes  omegaconf    timm-efficientdet-pytorch\n",
            "efficientdet\t       input\t       __pycache__  yolov5_wheat\n"
          ],
          "name": "stdout"
        }
      ]
    },
    {
      "cell_type": "markdown",
      "metadata": {
        "id": "junEPCeIwU6E",
        "colab_type": "text"
      },
      "source": [
        "# Inference"
      ]
    },
    {
      "cell_type": "code",
      "metadata": {
        "id": "Of_d2eLewV8O",
        "colab_type": "code",
        "colab": {}
      },
      "source": [
        "# import sys\n",
        "# sys.path.insert(0, \"./\")\n",
        "\n",
        "\n",
        "import ensemble_boxes\n",
        "import torch\n",
        "import numpy as np\n",
        "import pandas as pd\n",
        "from glob import glob\n",
        "from torch.utils.data import Dataset, DataLoader\n",
        "import albumentations as A\n",
        "from albumentations.pytorch.transforms import ToTensorV2\n",
        "import cv2\n",
        "import gc\n",
        "from matplotlib import pyplot as plt\n",
        "from effdet import get_efficientdet_config, EfficientDet, DetBenchEval\n",
        "from effdet.efficientdet import HeadNet"
      ],
      "execution_count": null,
      "outputs": []
    },
    {
      "cell_type": "code",
      "metadata": {
        "id": "_9MHO-1ywjqx",
        "colab_type": "code",
        "colab": {}
      },
      "source": [
        "def get_valid_transforms():\n",
        "    return A.Compose([\n",
        "            A.Resize(height=512, width=512, p=1.0),\n",
        "            ToTensorV2(p=1.0),\n",
        "        ], p=1.0)"
      ],
      "execution_count": null,
      "outputs": []
    },
    {
      "cell_type": "code",
      "metadata": {
        "id": "GJ4JPduswl_u",
        "colab_type": "code",
        "colab": {}
      },
      "source": [
        "def load_net_val(checkpoint_path):\n",
        "    config = get_efficientdet_config('tf_efficientdet_d5')\n",
        "    net = EfficientDet(config, pretrained_backbone=False)\n",
        "\n",
        "    config.num_classes = 1\n",
        "    config.image_size=512\n",
        "    net.class_net = HeadNet(config, num_outputs=config.num_classes, norm_kwargs=dict(eps=.001, momentum=.01))\n",
        "\n",
        "    checkpoint = torch.load(checkpoint_path)\n",
        "    net.load_state_dict(checkpoint['model_state_dict'])\n",
        "\n",
        "    del checkpoint\n",
        "    gc.collect()\n",
        "\n",
        "    net = DetBenchEval(net, config)\n",
        "    net.eval();\n",
        "    return net.cuda()\n",
        "\n",
        "net = load_net_val('./effdet5-cutmix-augmix/best-checkpoint-026epoch.bin')"
      ],
      "execution_count": null,
      "outputs": []
    },
    {
      "cell_type": "code",
      "metadata": {
        "id": "ya76PgLaxEsm",
        "colab_type": "code",
        "colab": {}
      },
      "source": [
        "class BaseWheatTTA:\n",
        "    \"\"\" author: @shonenkov \"\"\"\n",
        "    image_size = 512\n",
        "\n",
        "    def augment(self, image):\n",
        "        raise NotImplementedError\n",
        "    \n",
        "    def batch_augment(self, images):\n",
        "        raise NotImplementedError\n",
        "    \n",
        "    def deaugment_boxes(self, boxes):\n",
        "        raise NotImplementedError\n",
        "\n",
        "class TTAHorizontalFlip(BaseWheatTTA):\n",
        "    \"\"\" author: @shonenkov \"\"\"\n",
        "\n",
        "    def augment(self, image):\n",
        "        return image.flip(1)\n",
        "    \n",
        "    def batch_augment(self, images):\n",
        "        return images.flip(2)\n",
        "    \n",
        "    def deaugment_boxes(self, boxes):\n",
        "        boxes[:, [1,3]] = self.image_size - boxes[:, [3,1]]\n",
        "        return boxes\n",
        "\n",
        "class TTAVerticalFlip(BaseWheatTTA):\n",
        "    \"\"\" author: @shonenkov \"\"\"\n",
        "    \n",
        "    def augment(self, image):\n",
        "        return image.flip(2)\n",
        "    \n",
        "    def batch_augment(self, images):\n",
        "        return images.flip(3)\n",
        "    \n",
        "    def deaugment_boxes(self, boxes):\n",
        "        boxes[:, [0,2]] = self.image_size - boxes[:, [2,0]]\n",
        "        return boxes\n",
        "    \n",
        "class TTARotate90(BaseWheatTTA):\n",
        "    \"\"\" author: @shonenkov \"\"\"\n",
        "    \n",
        "    def augment(self, image):\n",
        "        return torch.rot90(image, 1, (1, 2))\n",
        "\n",
        "    def batch_augment(self, images):\n",
        "        return torch.rot90(images, 1, (2, 3))\n",
        "    \n",
        "    def deaugment_boxes(self, boxes):\n",
        "        res_boxes = boxes.copy()\n",
        "        res_boxes[:, [0,2]] = self.image_size - boxes[:, [1,3]]\n",
        "        res_boxes[:, [1,3]] = boxes[:, [2,0]]\n",
        "        return res_boxes\n",
        "\n",
        "class TTACompose(BaseWheatTTA):\n",
        "    \"\"\" author: @shonenkov \"\"\"\n",
        "    def __init__(self, transforms):\n",
        "        self.transforms = transforms\n",
        "        \n",
        "    def augment(self, image):\n",
        "        for transform in self.transforms:\n",
        "            image = transform.augment(image)\n",
        "        return image\n",
        "    \n",
        "    def batch_augment(self, images):\n",
        "        for transform in self.transforms:\n",
        "            images = transform.batch_augment(images)\n",
        "        return images\n",
        "    \n",
        "    def prepare_boxes(self, boxes):\n",
        "        result_boxes = boxes.copy()\n",
        "        result_boxes[:,0] = np.min(boxes[:, [0,2]], axis=1)\n",
        "        result_boxes[:,2] = np.max(boxes[:, [0,2]], axis=1)\n",
        "        result_boxes[:,1] = np.min(boxes[:, [1,3]], axis=1)\n",
        "        result_boxes[:,3] = np.max(boxes[:, [1,3]], axis=1)\n",
        "        return result_boxes\n",
        "    \n",
        "    def deaugment_boxes(self, boxes):\n",
        "        for transform in self.transforms[::-1]:\n",
        "            boxes = transform.deaugment_boxes(boxes)\n",
        "        return self.prepare_boxes(boxes)"
      ],
      "execution_count": null,
      "outputs": []
    },
    {
      "cell_type": "code",
      "metadata": {
        "id": "83BQT2KvxFdW",
        "colab_type": "code",
        "colab": {}
      },
      "source": [
        "def process_det(index, det, score_threshold=0.25):\n",
        "    boxes = det[index].detach().cpu().numpy()[:,:4]    \n",
        "    scores = det[index].detach().cpu().numpy()[:,4]\n",
        "    boxes[:, 2] = boxes[:, 2] + boxes[:, 0]\n",
        "    boxes[:, 3] = boxes[:, 3] + boxes[:, 1]\n",
        "    boxes = (boxes).clip(min=0, max=511).astype(int)\n",
        "    indexes = np.where(scores>score_threshold)\n",
        "    boxes = boxes[indexes]\n",
        "    scores = scores[indexes]\n",
        "    return boxes, scores"
      ],
      "execution_count": null,
      "outputs": []
    },
    {
      "cell_type": "code",
      "metadata": {
        "id": "pNE9h6gHxFja",
        "colab_type": "code",
        "colab": {}
      },
      "source": [
        "from itertools import product\n",
        "\n",
        "tta_transforms = []\n",
        "for tta_combination in product([TTAHorizontalFlip(), None], \n",
        "                               [TTAVerticalFlip(), None],\n",
        "                               [TTARotate90(), None]):\n",
        "    tta_transforms.append(TTACompose([tta_transform for tta_transform in tta_combination if tta_transform]))"
      ],
      "execution_count": null,
      "outputs": []
    },
    {
      "cell_type": "code",
      "metadata": {
        "id": "ztgoMJBTxFhT",
        "colab_type": "code",
        "colab": {}
      },
      "source": [
        "def make_tta_predictions(images, score_threshold=0.25):\n",
        "    with torch.no_grad():\n",
        "        images = torch.stack(images).float().cuda()\n",
        "        predictions = []\n",
        "        for tta_transform in tta_transforms:\n",
        "            result = []\n",
        "            det = net(tta_transform.batch_augment(images.clone()), torch.tensor([1]*images.shape[0]).float().cuda())\n",
        "\n",
        "            for i in range(images.shape[0]):\n",
        "                boxes = det[i].detach().cpu().numpy()[:,:4]    \n",
        "                scores = det[i].detach().cpu().numpy()[:,4]\n",
        "                indexes = np.where(scores > score_threshold)[0]\n",
        "                boxes = boxes[indexes]\n",
        "                boxes[:, 2] = boxes[:, 2] + boxes[:, 0]\n",
        "                boxes[:, 3] = boxes[:, 3] + boxes[:, 1]\n",
        "                boxes = tta_transform.deaugment_boxes(boxes.copy())\n",
        "                result.append({\n",
        "                    'boxes': boxes,\n",
        "                    'scores': scores[indexes],\n",
        "                })\n",
        "            predictions.append(result)\n",
        "    return predictions\n",
        "\n",
        "def run_wbf(predictions, image_index, image_size=512, iou_thr=0.44, skip_box_thr=0.43, weights=None):\n",
        "    boxes = [(prediction[image_index]['boxes']/(image_size-1)).tolist() for prediction in predictions]\n",
        "    scores = [prediction[image_index]['scores'].tolist() for prediction in predictions]\n",
        "    labels = [np.ones(prediction[image_index]['scores'].shape[0]).astype(int).tolist() for prediction in predictions]\n",
        "    boxes, scores, labels = ensemble_boxes.ensemble_boxes_wbf.weighted_boxes_fusion(boxes, scores, labels, weights=None, iou_thr=iou_thr, skip_box_thr=skip_box_thr)\n",
        "    boxes = boxes*(image_size-1)\n",
        "    return boxes, scores, labels"
      ],
      "execution_count": null,
      "outputs": []
    },
    {
      "cell_type": "code",
      "metadata": {
        "id": "yIJscgHaxeFa",
        "colab_type": "code",
        "colab": {}
      },
      "source": [
        "def format_prediction_string(boxes, scores):\n",
        "    pred_strings = []\n",
        "    for j in zip(scores, boxes):\n",
        "        pred_strings.append(\"{0:.4f} {1} {2} {3} {4}\".format(j[0], j[1][0], j[1][1], j[1][2], j[1][3]))\n",
        "    return \" \".join(pred_strings)"
      ],
      "execution_count": null,
      "outputs": []
    },
    {
      "cell_type": "code",
      "metadata": {
        "id": "k3kBbpsr7kNX",
        "colab_type": "code",
        "colab": {}
      },
      "source": [
        "import pandas as pd\n",
        "import numpy as np\n",
        "import numba\n",
        "import re\n",
        "import cv2\n",
        "import ast\n",
        "import matplotlib.pyplot as plt\n",
        "\n",
        "from numba import jit\n",
        "from typing import List, Union, Tuple\n",
        "\n",
        "@jit(nopython=True)\n",
        "def calculate_iou(gt, pr, form='pascal_voc') -> float:\n",
        "    \"\"\"Calculates the Intersection over Union.\n",
        "\n",
        "    Args:\n",
        "        gt: (np.ndarray[Union[int, float]]) coordinates of the ground-truth box\n",
        "        pr: (np.ndarray[Union[int, float]]) coordinates of the prdected box\n",
        "        form: (str) gt/pred coordinates format\n",
        "            - pascal_voc: [xmin, ymin, xmax, ymax]\n",
        "            - coco: [xmin, ymin, w, h]\n",
        "    Returns:\n",
        "        (float) Intersection over union (0.0 <= iou <= 1.0)\n",
        "    \"\"\"\n",
        "    if form == 'coco':\n",
        "        gt = gt.copy()\n",
        "        pr = pr.copy()\n",
        "\n",
        "        gt[2] = gt[0] + gt[2]\n",
        "        gt[3] = gt[1] + gt[3]\n",
        "        pr[2] = pr[0] + pr[2]\n",
        "        pr[3] = pr[1] + pr[3]\n",
        "\n",
        "    # Calculate overlap area\n",
        "    dx = min(gt[2], pr[2]) - max(gt[0], pr[0]) + 1\n",
        "    \n",
        "    if dx < 0:\n",
        "        return 0.0\n",
        "    \n",
        "    dy = min(gt[3], pr[3]) - max(gt[1], pr[1]) + 1\n",
        "\n",
        "    if dy < 0:\n",
        "        return 0.0\n",
        "\n",
        "    overlap_area = dx * dy\n",
        "\n",
        "    # Calculate union area\n",
        "    union_area = (\n",
        "            (gt[2] - gt[0] + 1) * (gt[3] - gt[1] + 1) +\n",
        "            (pr[2] - pr[0] + 1) * (pr[3] - pr[1] + 1) -\n",
        "            overlap_area\n",
        "    )\n",
        "\n",
        "    return overlap_area / union_area\n",
        "\n",
        "@jit(nopython=True)\n",
        "def find_best_match(gts, pred, pred_idx, threshold = 0.5, form = 'pascal_voc', ious=None) -> int:\n",
        "    \"\"\"Returns the index of the 'best match' between the\n",
        "    ground-truth boxes and the prediction. The 'best match'\n",
        "    is the highest IoU. (0.0 IoUs are ignored).\n",
        "\n",
        "    Args:\n",
        "        gts: (List[List[Union[int, float]]]) Coordinates of the available ground-truth boxes\n",
        "        pred: (List[Union[int, float]]) Coordinates of the predicted box\n",
        "        pred_idx: (int) Index of the current predicted box\n",
        "        threshold: (float) Threshold\n",
        "        form: (str) Format of the coordinates\n",
        "        ious: (np.ndarray) len(gts) x len(preds) matrix for storing calculated ious.\n",
        "\n",
        "    Return:\n",
        "        (int) Index of the best match GT box (-1 if no match above threshold)\n",
        "    \"\"\"\n",
        "    best_match_iou = -np.inf\n",
        "    best_match_idx = -1\n",
        "\n",
        "    for gt_idx in range(len(gts)):\n",
        "        \n",
        "        if gts[gt_idx][0] < 0:\n",
        "            # Already matched GT-box\n",
        "            continue\n",
        "        \n",
        "        iou = -1 if ious is None else ious[gt_idx][pred_idx]\n",
        "\n",
        "        if iou < 0:\n",
        "            iou = calculate_iou(gts[gt_idx], pred, form=form)\n",
        "            \n",
        "            if ious is not None:\n",
        "                ious[gt_idx][pred_idx] = iou\n",
        "\n",
        "        if iou < threshold:\n",
        "            continue\n",
        "\n",
        "        if iou > best_match_iou:\n",
        "            best_match_iou = iou\n",
        "            best_match_idx = gt_idx\n",
        "\n",
        "    return best_match_idx\n",
        "\n",
        "@jit(nopython=True)\n",
        "def calculate_precision(gts, preds, threshold = 0.5, form = 'coco', ious=None) -> float:\n",
        "    \"\"\"Calculates precision for GT - prediction pairs at one threshold.\n",
        "\n",
        "    Args:\n",
        "        gts: (List[List[Union[int, float]]]) Coordinates of the available ground-truth boxes\n",
        "        preds: (List[List[Union[int, float]]]) Coordinates of the predicted boxes,\n",
        "               sorted by confidence value (descending)\n",
        "        threshold: (float) Threshold\n",
        "        form: (str) Format of the coordinates\n",
        "        ious: (np.ndarray) len(gts) x len(preds) matrix for storing calculated ious.\n",
        "\n",
        "    Return:\n",
        "        (float) Precision\n",
        "    \"\"\"\n",
        "    n = len(preds)\n",
        "    tp = 0\n",
        "    fp = 0\n",
        "    \n",
        "    # for pred_idx, pred in enumerate(preds_sorted):\n",
        "    for pred_idx in range(n):\n",
        "\n",
        "        best_match_gt_idx = find_best_match(gts, preds[pred_idx], pred_idx,\n",
        "                                            threshold=threshold, form=form, ious=ious)\n",
        "\n",
        "        if best_match_gt_idx >= 0:\n",
        "            # True positive: The predicted box matches a gt box with an IoU above the threshold.\n",
        "            tp += 1\n",
        "            # Remove the matched GT box\n",
        "            gts[best_match_gt_idx] = -1\n",
        "\n",
        "        else:\n",
        "            # No match\n",
        "            # False positive: indicates a predicted box had no associated gt box.\n",
        "            fp += 1\n",
        "\n",
        "    # False negative: indicates a gt box had no associated predicted box.\n",
        "    fn = (gts.sum(axis=1) > 0).sum()\n",
        "\n",
        "    return tp / (tp + fp + fn)\n",
        "\n",
        "\n",
        "@jit(nopython=True)\n",
        "def calculate_image_precision(gts, preds, thresholds = (0.5, ), form = 'coco') -> float:\n",
        "    \"\"\"Calculates image precision.\n",
        "\n",
        "    Args:\n",
        "        gts: (List[List[Union[int, float]]]) Coordinates of the available ground-truth boxes\n",
        "        preds: (List[List[Union[int, float]]]) Coordinates of the predicted boxes,\n",
        "               sorted by confidence value (descending)\n",
        "        thresholds: (float) Different thresholds\n",
        "        form: (str) Format of the coordinates\n",
        "\n",
        "    Return:\n",
        "        (float) Precision\n",
        "    \"\"\"\n",
        "    n_threshold = len(thresholds)\n",
        "    image_precision = 0.0\n",
        "    \n",
        "    ious = np.ones((len(gts), len(preds))) * -1\n",
        "    # ious = None\n",
        "\n",
        "    for threshold in thresholds:\n",
        "        precision_at_threshold = calculate_precision(gts.copy(), preds, threshold=threshold,\n",
        "                                                     form=form, ious=ious)\n",
        "        image_precision += precision_at_threshold / n_threshold\n",
        "\n",
        "    return image_precision"
      ],
      "execution_count": null,
      "outputs": []
    },
    {
      "cell_type": "code",
      "metadata": {
        "id": "l_-1lOK7JtEb",
        "colab_type": "code",
        "colab": {}
      },
      "source": [
        "def get_valid_transforms():\n",
        "    return A.Compose([\n",
        "            A.Resize(height=512, width=512, p=1.0),\n",
        "            ToTensorV2(p=1.0),\n",
        "        ], p=1.0)\n",
        "\n",
        "dataset = DatasetRetriever(\n",
        "    image_ids=df_folds[df_folds['fold'] == fold_number].index.values,\n",
        "    marking=marking,\n",
        "    transforms=get_valid_transforms(),\n",
        "    test=True,\n",
        "    mixup=False\n",
        ")\n",
        "\n",
        "def collate_fn(batch):\n",
        "    return tuple(zip(*batch))\n",
        "\n",
        "val_loader = DataLoader(\n",
        "    dataset,\n",
        "    batch_size=4,\n",
        "    shuffle=False,\n",
        "    num_workers=2,\n",
        "    drop_last=False,\n",
        "    collate_fn=collate_fn\n",
        ")"
      ],
      "execution_count": null,
      "outputs": []
    },
    {
      "cell_type": "code",
      "metadata": {
        "id": "HG7kqq_PKNiR",
        "colab_type": "code",
        "colab": {
          "base_uri": "https://localhost:8080/",
          "height": 504
        },
        "outputId": "8873a2e3-f037-4498-f9f4-38ed18c5155d"
      },
      "source": [
        "import matplotlib.pyplot as plt\n",
        "\n",
        "for j, (images, targets, image_ids) in enumerate(val_loader):\n",
        "    break\n",
        "\n",
        "predictions = make_tta_predictions(images)\n",
        "\n",
        "i = 1\n",
        "sample = images[i].permute(1,2,0).cpu().numpy()\n",
        "\n",
        "boxes, scores, labels = run_wbf(predictions, image_index=i)\n",
        "boxes = boxes.round().astype(np.int32).clip(min=0, max=511)\n",
        "\n",
        "fig, ax = plt.subplots(1, 1, figsize=(16, 8))\n",
        "\n",
        "for box in boxes:\n",
        "    cv2.rectangle(sample, (box[0], box[1]), (box[2], box[3]), (1, 0, 0), 1)\n",
        "\n",
        "ax.set_axis_off()\n",
        "ax.imshow(sample);"
      ],
      "execution_count": null,
      "outputs": [
        {
          "output_type": "error",
          "ename": "TypeError",
          "evalue": "ignored",
          "traceback": [
            "\u001b[0;31m---------------------------------------------------------------------------\u001b[0m",
            "\u001b[0;31mTypeError\u001b[0m                                 Traceback (most recent call last)",
            "\u001b[0;32m<ipython-input-63-f9734c5994cf>\u001b[0m in \u001b[0;36m<module>\u001b[0;34m()\u001b[0m\n\u001b[1;32m      4\u001b[0m     \u001b[0;32mbreak\u001b[0m\u001b[0;34m\u001b[0m\u001b[0;34m\u001b[0m\u001b[0m\n\u001b[1;32m      5\u001b[0m \u001b[0;34m\u001b[0m\u001b[0m\n\u001b[0;32m----> 6\u001b[0;31m \u001b[0mpredictions\u001b[0m \u001b[0;34m=\u001b[0m \u001b[0mmake_tta_predictions\u001b[0m\u001b[0;34m(\u001b[0m\u001b[0mimages\u001b[0m\u001b[0;34m)\u001b[0m\u001b[0;34m\u001b[0m\u001b[0;34m\u001b[0m\u001b[0m\n\u001b[0m\u001b[1;32m      7\u001b[0m \u001b[0;34m\u001b[0m\u001b[0m\n\u001b[1;32m      8\u001b[0m \u001b[0mi\u001b[0m \u001b[0;34m=\u001b[0m \u001b[0;36m1\u001b[0m\u001b[0;34m\u001b[0m\u001b[0;34m\u001b[0m\u001b[0m\n",
            "\u001b[0;32m<ipython-input-30-1fc604ba8a52>\u001b[0m in \u001b[0;36mmake_tta_predictions\u001b[0;34m(images, score_threshold)\u001b[0m\n\u001b[1;32m      5\u001b[0m         \u001b[0;32mfor\u001b[0m \u001b[0mtta_transform\u001b[0m \u001b[0;32min\u001b[0m \u001b[0mtta_transforms\u001b[0m\u001b[0;34m:\u001b[0m\u001b[0;34m\u001b[0m\u001b[0;34m\u001b[0m\u001b[0m\n\u001b[1;32m      6\u001b[0m             \u001b[0mresult\u001b[0m \u001b[0;34m=\u001b[0m \u001b[0;34m[\u001b[0m\u001b[0;34m]\u001b[0m\u001b[0;34m\u001b[0m\u001b[0;34m\u001b[0m\u001b[0m\n\u001b[0;32m----> 7\u001b[0;31m             \u001b[0mdet\u001b[0m \u001b[0;34m=\u001b[0m \u001b[0mnet\u001b[0m\u001b[0;34m(\u001b[0m\u001b[0mtta_transform\u001b[0m\u001b[0;34m.\u001b[0m\u001b[0mbatch_augment\u001b[0m\u001b[0;34m(\u001b[0m\u001b[0mimages\u001b[0m\u001b[0;34m.\u001b[0m\u001b[0mclone\u001b[0m\u001b[0;34m(\u001b[0m\u001b[0;34m)\u001b[0m\u001b[0;34m)\u001b[0m\u001b[0;34m,\u001b[0m \u001b[0mtorch\u001b[0m\u001b[0;34m.\u001b[0m\u001b[0mtensor\u001b[0m\u001b[0;34m(\u001b[0m\u001b[0;34m[\u001b[0m\u001b[0;36m1\u001b[0m\u001b[0;34m]\u001b[0m\u001b[0;34m*\u001b[0m\u001b[0mimages\u001b[0m\u001b[0;34m.\u001b[0m\u001b[0mshape\u001b[0m\u001b[0;34m[\u001b[0m\u001b[0;36m0\u001b[0m\u001b[0;34m]\u001b[0m\u001b[0;34m)\u001b[0m\u001b[0;34m.\u001b[0m\u001b[0mfloat\u001b[0m\u001b[0;34m(\u001b[0m\u001b[0;34m)\u001b[0m\u001b[0;34m.\u001b[0m\u001b[0mcuda\u001b[0m\u001b[0;34m(\u001b[0m\u001b[0;34m)\u001b[0m\u001b[0;34m)\u001b[0m\u001b[0;34m\u001b[0m\u001b[0;34m\u001b[0m\u001b[0m\n\u001b[0m\u001b[1;32m      8\u001b[0m \u001b[0;34m\u001b[0m\u001b[0m\n\u001b[1;32m      9\u001b[0m             \u001b[0;32mfor\u001b[0m \u001b[0mi\u001b[0m \u001b[0;32min\u001b[0m \u001b[0mrange\u001b[0m\u001b[0;34m(\u001b[0m\u001b[0mimages\u001b[0m\u001b[0;34m.\u001b[0m\u001b[0mshape\u001b[0m\u001b[0;34m[\u001b[0m\u001b[0;36m0\u001b[0m\u001b[0;34m]\u001b[0m\u001b[0;34m)\u001b[0m\u001b[0;34m:\u001b[0m\u001b[0;34m\u001b[0m\u001b[0;34m\u001b[0m\u001b[0m\n",
            "\u001b[0;32m/usr/local/lib/python3.6/dist-packages/torch/nn/modules/module.py\u001b[0m in \u001b[0;36m__call__\u001b[0;34m(self, *input, **kwargs)\u001b[0m\n\u001b[1;32m    548\u001b[0m             \u001b[0mresult\u001b[0m \u001b[0;34m=\u001b[0m \u001b[0mself\u001b[0m\u001b[0;34m.\u001b[0m\u001b[0m_slow_forward\u001b[0m\u001b[0;34m(\u001b[0m\u001b[0;34m*\u001b[0m\u001b[0minput\u001b[0m\u001b[0;34m,\u001b[0m \u001b[0;34m**\u001b[0m\u001b[0mkwargs\u001b[0m\u001b[0;34m)\u001b[0m\u001b[0;34m\u001b[0m\u001b[0;34m\u001b[0m\u001b[0m\n\u001b[1;32m    549\u001b[0m         \u001b[0;32melse\u001b[0m\u001b[0;34m:\u001b[0m\u001b[0;34m\u001b[0m\u001b[0;34m\u001b[0m\u001b[0m\n\u001b[0;32m--> 550\u001b[0;31m             \u001b[0mresult\u001b[0m \u001b[0;34m=\u001b[0m \u001b[0mself\u001b[0m\u001b[0;34m.\u001b[0m\u001b[0mforward\u001b[0m\u001b[0;34m(\u001b[0m\u001b[0;34m*\u001b[0m\u001b[0minput\u001b[0m\u001b[0;34m,\u001b[0m \u001b[0;34m**\u001b[0m\u001b[0mkwargs\u001b[0m\u001b[0;34m)\u001b[0m\u001b[0;34m\u001b[0m\u001b[0;34m\u001b[0m\u001b[0m\n\u001b[0m\u001b[1;32m    551\u001b[0m         \u001b[0;32mfor\u001b[0m \u001b[0mhook\u001b[0m \u001b[0;32min\u001b[0m \u001b[0mself\u001b[0m\u001b[0;34m.\u001b[0m\u001b[0m_forward_hooks\u001b[0m\u001b[0;34m.\u001b[0m\u001b[0mvalues\u001b[0m\u001b[0;34m(\u001b[0m\u001b[0;34m)\u001b[0m\u001b[0;34m:\u001b[0m\u001b[0;34m\u001b[0m\u001b[0;34m\u001b[0m\u001b[0m\n\u001b[1;32m    552\u001b[0m             \u001b[0mhook_result\u001b[0m \u001b[0;34m=\u001b[0m \u001b[0mhook\u001b[0m\u001b[0;34m(\u001b[0m\u001b[0mself\u001b[0m\u001b[0;34m,\u001b[0m \u001b[0minput\u001b[0m\u001b[0;34m,\u001b[0m \u001b[0mresult\u001b[0m\u001b[0;34m)\u001b[0m\u001b[0;34m\u001b[0m\u001b[0;34m\u001b[0m\u001b[0m\n",
            "\u001b[0;31mTypeError\u001b[0m: forward() missing 1 required positional argument: 'gt_labels'"
          ]
        }
      ]
    },
    {
      "cell_type": "code",
      "metadata": {
        "id": "NhzuYb3ixocr",
        "colab_type": "code",
        "colab": {
          "base_uri": "https://localhost:8080/",
          "height": 504
        },
        "outputId": "f6c3bd52-1654-415c-bde4-8cccb3bd891e"
      },
      "source": [
        "results = []\n",
        "\n",
        "for images, targets, image_ids in val_loader:\n",
        "    predictions = make_tta_predictions(images)\n",
        "    gt_boxes = [target['boxes'].to(self.device).float() for target in targets]\n",
        "    preds = []\n",
        "    scoress = []\n",
        "    for i, image in enumerate(images):\n",
        "        boxes, scores, labels = run_wbf(predictions, image_index=i)\n",
        "        boxes = (boxes*2).round().astype(np.int32).clip(min=0, max=1023)\n",
        "\n",
        "        image_id = image_ids[i]\n",
        "\n",
        "        boxes[:, 2] = boxes[:, 2] - boxes[:, 0]\n",
        "        boxes[:, 3] = boxes[:, 3] - boxes[:, 1]\n",
        "        preds.append(boxes)\n",
        "        scoress.append(scores)\n",
        "\n",
        "        result = {\n",
        "            'image_id': image_id,\n",
        "            'PredictionString': format_prediction_string(boxes, scores)\n",
        "        }\n",
        "        results.append(result)\n",
        "    # for local validation\n",
        "    preds_sorted_idx = np.argsort(scores)[::-1]\n",
        "    preds_sorted = preds[preds_sorted_idx]\n",
        "    validation_image_precision = []\n",
        "    iou_thresholds = [x for x in np.arange(0.5, 0.76, 0.05)]\n",
        "\n",
        "    for idx, image in enumerate(images):\n",
        "        image_precision = calculate_image_precision(preds_sorted,\n",
        "                                                    gt_boxes,\n",
        "                                                    thresholds=iou_thresholds,\n",
        "                                                    form='coco')\n",
        "\n",
        "        validation_image_precisions.append(image_precision)\n",
        "\n",
        "print(\"Validation IOU: {0:.4f}\".format(np.mean(validation_image_precisions)))"
      ],
      "execution_count": null,
      "outputs": [
        {
          "output_type": "error",
          "ename": "TypeError",
          "evalue": "ignored",
          "traceback": [
            "\u001b[0;31m---------------------------------------------------------------------------\u001b[0m",
            "\u001b[0;31mTypeError\u001b[0m                                 Traceback (most recent call last)",
            "\u001b[0;32m<ipython-input-49-f1d0229e2ee6>\u001b[0m in \u001b[0;36m<module>\u001b[0;34m()\u001b[0m\n\u001b[1;32m      2\u001b[0m \u001b[0;34m\u001b[0m\u001b[0m\n\u001b[1;32m      3\u001b[0m \u001b[0;32mfor\u001b[0m \u001b[0mimages\u001b[0m\u001b[0;34m,\u001b[0m \u001b[0mtargets\u001b[0m\u001b[0;34m,\u001b[0m \u001b[0mimage_ids\u001b[0m \u001b[0;32min\u001b[0m \u001b[0mval_loader\u001b[0m\u001b[0;34m:\u001b[0m\u001b[0;34m\u001b[0m\u001b[0;34m\u001b[0m\u001b[0m\n\u001b[0;32m----> 4\u001b[0;31m     \u001b[0mpredictions\u001b[0m \u001b[0;34m=\u001b[0m \u001b[0mmake_tta_predictions\u001b[0m\u001b[0;34m(\u001b[0m\u001b[0mimages\u001b[0m\u001b[0;34m)\u001b[0m\u001b[0;34m\u001b[0m\u001b[0;34m\u001b[0m\u001b[0m\n\u001b[0m\u001b[1;32m      5\u001b[0m     \u001b[0mgt_boxes\u001b[0m \u001b[0;34m=\u001b[0m \u001b[0;34m[\u001b[0m\u001b[0mtarget\u001b[0m\u001b[0;34m[\u001b[0m\u001b[0;34m'boxes'\u001b[0m\u001b[0;34m]\u001b[0m\u001b[0;34m.\u001b[0m\u001b[0mto\u001b[0m\u001b[0;34m(\u001b[0m\u001b[0mself\u001b[0m\u001b[0;34m.\u001b[0m\u001b[0mdevice\u001b[0m\u001b[0;34m)\u001b[0m\u001b[0;34m.\u001b[0m\u001b[0mfloat\u001b[0m\u001b[0;34m(\u001b[0m\u001b[0;34m)\u001b[0m \u001b[0;32mfor\u001b[0m \u001b[0mtarget\u001b[0m \u001b[0;32min\u001b[0m \u001b[0mtargets\u001b[0m\u001b[0;34m]\u001b[0m\u001b[0;34m\u001b[0m\u001b[0;34m\u001b[0m\u001b[0m\n\u001b[1;32m      6\u001b[0m     \u001b[0mpreds\u001b[0m \u001b[0;34m=\u001b[0m \u001b[0;34m[\u001b[0m\u001b[0;34m]\u001b[0m\u001b[0;34m\u001b[0m\u001b[0;34m\u001b[0m\u001b[0m\n",
            "\u001b[0;32m<ipython-input-30-1fc604ba8a52>\u001b[0m in \u001b[0;36mmake_tta_predictions\u001b[0;34m(images, score_threshold)\u001b[0m\n\u001b[1;32m      5\u001b[0m         \u001b[0;32mfor\u001b[0m \u001b[0mtta_transform\u001b[0m \u001b[0;32min\u001b[0m \u001b[0mtta_transforms\u001b[0m\u001b[0;34m:\u001b[0m\u001b[0;34m\u001b[0m\u001b[0;34m\u001b[0m\u001b[0m\n\u001b[1;32m      6\u001b[0m             \u001b[0mresult\u001b[0m \u001b[0;34m=\u001b[0m \u001b[0;34m[\u001b[0m\u001b[0;34m]\u001b[0m\u001b[0;34m\u001b[0m\u001b[0;34m\u001b[0m\u001b[0m\n\u001b[0;32m----> 7\u001b[0;31m             \u001b[0mdet\u001b[0m \u001b[0;34m=\u001b[0m \u001b[0mnet\u001b[0m\u001b[0;34m(\u001b[0m\u001b[0mtta_transform\u001b[0m\u001b[0;34m.\u001b[0m\u001b[0mbatch_augment\u001b[0m\u001b[0;34m(\u001b[0m\u001b[0mimages\u001b[0m\u001b[0;34m.\u001b[0m\u001b[0mclone\u001b[0m\u001b[0;34m(\u001b[0m\u001b[0;34m)\u001b[0m\u001b[0;34m)\u001b[0m\u001b[0;34m,\u001b[0m \u001b[0mtorch\u001b[0m\u001b[0;34m.\u001b[0m\u001b[0mtensor\u001b[0m\u001b[0;34m(\u001b[0m\u001b[0;34m[\u001b[0m\u001b[0;36m1\u001b[0m\u001b[0;34m]\u001b[0m\u001b[0;34m*\u001b[0m\u001b[0mimages\u001b[0m\u001b[0;34m.\u001b[0m\u001b[0mshape\u001b[0m\u001b[0;34m[\u001b[0m\u001b[0;36m0\u001b[0m\u001b[0;34m]\u001b[0m\u001b[0;34m)\u001b[0m\u001b[0;34m.\u001b[0m\u001b[0mfloat\u001b[0m\u001b[0;34m(\u001b[0m\u001b[0;34m)\u001b[0m\u001b[0;34m.\u001b[0m\u001b[0mcuda\u001b[0m\u001b[0;34m(\u001b[0m\u001b[0;34m)\u001b[0m\u001b[0;34m)\u001b[0m\u001b[0;34m\u001b[0m\u001b[0;34m\u001b[0m\u001b[0m\n\u001b[0m\u001b[1;32m      8\u001b[0m \u001b[0;34m\u001b[0m\u001b[0m\n\u001b[1;32m      9\u001b[0m             \u001b[0;32mfor\u001b[0m \u001b[0mi\u001b[0m \u001b[0;32min\u001b[0m \u001b[0mrange\u001b[0m\u001b[0;34m(\u001b[0m\u001b[0mimages\u001b[0m\u001b[0;34m.\u001b[0m\u001b[0mshape\u001b[0m\u001b[0;34m[\u001b[0m\u001b[0;36m0\u001b[0m\u001b[0;34m]\u001b[0m\u001b[0;34m)\u001b[0m\u001b[0;34m:\u001b[0m\u001b[0;34m\u001b[0m\u001b[0;34m\u001b[0m\u001b[0m\n",
            "\u001b[0;32m/usr/local/lib/python3.6/dist-packages/torch/nn/modules/module.py\u001b[0m in \u001b[0;36m__call__\u001b[0;34m(self, *input, **kwargs)\u001b[0m\n\u001b[1;32m    548\u001b[0m             \u001b[0mresult\u001b[0m \u001b[0;34m=\u001b[0m \u001b[0mself\u001b[0m\u001b[0;34m.\u001b[0m\u001b[0m_slow_forward\u001b[0m\u001b[0;34m(\u001b[0m\u001b[0;34m*\u001b[0m\u001b[0minput\u001b[0m\u001b[0;34m,\u001b[0m \u001b[0;34m**\u001b[0m\u001b[0mkwargs\u001b[0m\u001b[0;34m)\u001b[0m\u001b[0;34m\u001b[0m\u001b[0;34m\u001b[0m\u001b[0m\n\u001b[1;32m    549\u001b[0m         \u001b[0;32melse\u001b[0m\u001b[0;34m:\u001b[0m\u001b[0;34m\u001b[0m\u001b[0;34m\u001b[0m\u001b[0m\n\u001b[0;32m--> 550\u001b[0;31m             \u001b[0mresult\u001b[0m \u001b[0;34m=\u001b[0m \u001b[0mself\u001b[0m\u001b[0;34m.\u001b[0m\u001b[0mforward\u001b[0m\u001b[0;34m(\u001b[0m\u001b[0;34m*\u001b[0m\u001b[0minput\u001b[0m\u001b[0;34m,\u001b[0m \u001b[0;34m**\u001b[0m\u001b[0mkwargs\u001b[0m\u001b[0;34m)\u001b[0m\u001b[0;34m\u001b[0m\u001b[0;34m\u001b[0m\u001b[0m\n\u001b[0m\u001b[1;32m    551\u001b[0m         \u001b[0;32mfor\u001b[0m \u001b[0mhook\u001b[0m \u001b[0;32min\u001b[0m \u001b[0mself\u001b[0m\u001b[0;34m.\u001b[0m\u001b[0m_forward_hooks\u001b[0m\u001b[0;34m.\u001b[0m\u001b[0mvalues\u001b[0m\u001b[0;34m(\u001b[0m\u001b[0;34m)\u001b[0m\u001b[0;34m:\u001b[0m\u001b[0;34m\u001b[0m\u001b[0;34m\u001b[0m\u001b[0m\n\u001b[1;32m    552\u001b[0m             \u001b[0mhook_result\u001b[0m \u001b[0;34m=\u001b[0m \u001b[0mhook\u001b[0m\u001b[0;34m(\u001b[0m\u001b[0mself\u001b[0m\u001b[0;34m,\u001b[0m \u001b[0minput\u001b[0m\u001b[0;34m,\u001b[0m \u001b[0mresult\u001b[0m\u001b[0;34m)\u001b[0m\u001b[0;34m\u001b[0m\u001b[0;34m\u001b[0m\u001b[0m\n",
            "\u001b[0;31mTypeError\u001b[0m: forward() missing 1 required positional argument: 'gt_labels'"
          ]
        }
      ]
    },
    {
      "cell_type": "code",
      "metadata": {
        "id": "kR22qH2Txofw",
        "colab_type": "code",
        "colab": {}
      },
      "source": [
        "test_df = pd.DataFrame(results, columns=['image_id', 'PredictionString'])\n",
        "# test_df.to_csv('submission.csv', index=False)\n",
        "test_df.head()"
      ],
      "execution_count": null,
      "outputs": []
    },
    {
      "cell_type": "code",
      "metadata": {
        "id": "HOywbXlSxojm",
        "colab_type": "code",
        "colab": {}
      },
      "source": [
        ""
      ],
      "execution_count": null,
      "outputs": []
    }
  ]
}